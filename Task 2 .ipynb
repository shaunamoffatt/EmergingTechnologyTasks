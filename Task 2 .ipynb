{
 "cells": [
  {
   "cell_type": "markdown",
   "metadata": {},
   "source": [
    "# Chi-squared test for independence\n",
    "\n",
    "The Chi-Squared test for independence is for exploring a dataset to examine if two (or more) categorical variables are dependent on one another.[2] \n",
    "\n",
    " \n",
    "\\begin{equation}\n",
    "\\chi^2 = \\sum{\\frac{(observed−expected)^2}{expected}}\\\\\n",
    "\\text{where *observed* is the actual value and *expected* is the expected value.}\n",
    "\\end{equation}\n",
    "\n",
    "\"The term ‘observed’ refers to the numbers we have seen in the contingency table\", a summary table of relationships between variables,  \"and the term ‘expected’ refers to the expected numbers when the null hypothesis is true.\"\n",
    "[medium](https://towardsdatascience.com/chi-square-test-for-independence-in-python-with-examples-from-the-ibm-hr-analytics-dataset-97b9ec9bb80a) \n",
    "\n",
    "### Hypotheses\n",
    "**Null Hypothesis** : an assumption that there are no associations between the variables and they are independent\n",
    "\n",
    "**Alternative Hypothese** : an assumption that there *is* an association between the variables and they are dependent on one another. [4]\n",
    "\n",
    "\n",
    "\n",
    "https://codingdisciple.com/chi-squared-python.html\n",
    "\n",
    "[2]https://towardsdatascience.com/chi-square-test-for-independence-in-python-with-examples-from-the-ibm-hr-analytics-dataset-97b9ec9bb80a\n",
    "\n",
    "[3]https://online.stat.psu.edu/stat500/lesson/8/8.1\n",
    "\n",
    "[4]https://www.statisticssolutions.com/non-parametric-analysis-chi-square/"
   ]
  },
  {
   "cell_type": "markdown",
   "metadata": {},
   "source": [
    "#### Packages\n",
    "\n",
    "SciPy will be used to find the Chi-Square [2] [2]https://docs.scipy.org/doc/scipy/reference/generated/scipy.stats.chi2_contingency.html"
   ]
  },
  {
   "cell_type": "code",
   "execution_count": 1,
   "metadata": {},
   "outputs": [],
   "source": [
    "from scipy.stats import chi2_contingency as chi\n",
    "from IPython.core.display import HTML\n",
    "import pandas as pd\n",
    "import numpy as np\n",
    "import matplotlib.pyplot as plt\n",
    "from math import isclose"
   ]
  },
  {
   "cell_type": "markdown",
   "metadata": {},
   "source": [
    "## The Data Model\n",
    "\n",
    "A city with a popultaion of 1,000,000 is split into 4 neighbour hoods: A, B, C and D. \n",
    "Taking a sample size of 650 people, everybodies occupation is catergorized into 1 of 3 brackets: \"White collar\", \"Blue collar\" and \"No collar\". \n",
    "\n",
    "[]https://en.wikipedia.org/wiki/Chi-squared_test"
   ]
  },
  {
   "cell_type": "code",
   "execution_count": 2,
   "metadata": {},
   "outputs": [],
   "source": [
    "#array of white, blue and no collars in each neighbourhood A,B,C and D\n",
    "w = [90,60,104,95]\n",
    "b = [30,50,51,20]\n",
    "n = [30,40,45,35]\n",
    "neigbourhoods = ['A', 'B', 'C', 'D']\n",
    "##create dictionary of data\n",
    "data ={\n",
    "    \"White collar\" : w,\n",
    "    \"Blue collar\" : b,\n",
    "    \"No collar\" : n\n",
    "}"
   ]
  },
  {
   "cell_type": "markdown",
   "metadata": {},
   "source": [
    "### Data Displayed as bar Chart"
   ]
  },
  {
   "cell_type": "code",
   "execution_count": 3,
   "metadata": {},
   "outputs": [
    {
     "data": {
      "image/png": "[encoded data removed]",
      "text/plain": [
       "<Figure size 750x400 with 1 Axes>"
      ]
     },
     "metadata": {},
     "output_type": "display_data"
    }
   ],
   "source": [
    "#Plots the bar chart\n",
    "fig = plt.figure(figsize=(15,8), dpi= 50, facecolor='w', edgecolor='k')\n",
    "#Change size of font\n",
    "plt.rcParams['font.size'] = 20\n",
    "\n",
    "ax = fig.add_axes([0,0,1,1])\n",
    "\n",
    "X = np.arange(4)\n",
    "\n",
    "ax.bar(X + 0.00, w, color = 'w', width = 0.25)\n",
    "ax.bar(X + 0.25, b, color = 'b', width = 0.25)\n",
    "ax.bar(X + 0.50, n, color = 'r', width = 0.25)\n",
    "\n",
    "ax.legend(labels=data)\n",
    "ax.set_facecolor('grey')\n",
    "\n",
    "#add the neighbour to the xlabels\n",
    "#Set the xticks to be the neighbourhoods\n",
    "N = len(neigbourhoods)\n",
    "x2 = np.arange(N)\n",
    "plt.xticks(x2, neigbourhoods)\n",
    "\n",
    "#Set the labels and Titles\n",
    "plt.title('Distribution of Occupation of sample size 650')\n",
    "ax.set_xlabel('Neighbourhood')\n",
    "ax.set_ylabel('No. of People') \n",
    "\n",
    "plt.show()\n",
    "\n",
    "#https://www.tutorialspoint.com/matplotlib/matplotlib_bar_plot.htm"
   ]
  },
  {
   "cell_type": "markdown",
   "metadata": {},
   "source": [
    "## Observed Values"
   ]
  },
  {
   "cell_type": "code",
   "execution_count": 4,
   "metadata": {},
   "outputs": [
    {
     "name": "stdout",
     "output_type": "stream",
     "text": [
      "===Observed Table===\n"
     ]
    },
    {
     "data": {
      "text/html": [
       "<div>\n",
       "<style scoped>\n",
       "    .dataframe tbody tr th:only-of-type {\n",
       "        vertical-align: middle;\n",
       "    }\n",
       "\n",
       "    .dataframe tbody tr th {\n",
       "        vertical-align: top;\n",
       "    }\n",
       "\n",
       "    .dataframe thead th {\n",
       "        text-align: right;\n",
       "    }\n",
       "</style>\n",
       "<table border=\"1\" class=\"dataframe\">\n",
       "  <thead>\n",
       "    <tr style=\"text-align: right;\">\n",
       "      <th></th>\n",
       "      <th>A</th>\n",
       "      <th>B</th>\n",
       "      <th>C</th>\n",
       "      <th>D</th>\n",
       "      <th>Total</th>\n",
       "    </tr>\n",
       "  </thead>\n",
       "  <tbody>\n",
       "    <tr>\n",
       "      <th>White collar</th>\n",
       "      <td>90</td>\n",
       "      <td>60</td>\n",
       "      <td>104</td>\n",
       "      <td>95</td>\n",
       "      <td>349</td>\n",
       "    </tr>\n",
       "    <tr>\n",
       "      <th>Blue collar</th>\n",
       "      <td>30</td>\n",
       "      <td>50</td>\n",
       "      <td>51</td>\n",
       "      <td>20</td>\n",
       "      <td>151</td>\n",
       "    </tr>\n",
       "    <tr>\n",
       "      <th>No collar</th>\n",
       "      <td>30</td>\n",
       "      <td>40</td>\n",
       "      <td>45</td>\n",
       "      <td>35</td>\n",
       "      <td>150</td>\n",
       "    </tr>\n",
       "    <tr>\n",
       "      <th>Total</th>\n",
       "      <td>150</td>\n",
       "      <td>150</td>\n",
       "      <td>200</td>\n",
       "      <td>150</td>\n",
       "      <td>650</td>\n",
       "    </tr>\n",
       "  </tbody>\n",
       "</table>\n",
       "</div>"
      ],
      "text/plain": [
       "                A    B    C    D  Total\n",
       "White collar   90   60  104   95    349\n",
       "Blue collar    30   50   51   20    151\n",
       "No collar      30   40   45   35    150\n",
       "Total         150  150  200  150    650"
      ]
     },
     "execution_count": 4,
     "metadata": {},
     "output_type": "execute_result"
    }
   ],
   "source": [
    "collars = np.array([w, b, n])\n",
    "#add the data to the datafrome\n",
    "df = pd.DataFrame(data)\n",
    "#Change the rows from 0 , 1 , 2, 3 to A, B, C, D\n",
    "df.index = neigbourhoods\n",
    "#Sum the totals of the rows and columns\n",
    "df.loc['Total']= df.sum(numeric_only=True, axis=0)\n",
    "df.loc[:,'Total'] = df.sum(numeric_only=True, axis=1)\n",
    "\n",
    "print(\"===Observed Table===\")\n",
    "#flip the display of the data horizontally\n",
    "df.head().T"
   ]
  },
  {
   "cell_type": "markdown",
   "metadata": {},
   "source": [
    "## SciPy’s chi2_contingency() \n",
    "\n",
    "Returns 4 values:\n",
    "\n",
    "    0: 𝜒2 value\n",
    "    1: p-value\n",
    "    2: degree of freedom\n",
    "    3: expected values\n",
    "\n",
    "(A big help in understanding the Chi-Square for Independence Test was this tutorial=>[]https://towardsdatascience.com/running-chi-square-tests-in-python-with-die-roll-data-b9903817c51b)"
   ]
  },
  {
   "cell_type": "code",
   "execution_count": 5,
   "metadata": {},
   "outputs": [],
   "source": [
    "##Calculate chi2_contingency using scipy.stats \n",
    "collars = np.array([w, b, n])\n",
    "chi2, p_val, dof, ex = chi(collars)"
   ]
  },
  {
   "cell_type": "markdown",
   "metadata": {},
   "source": [
    "## Expected Values\n",
    "\n",
    "The expected values from the give data is gotten from the 4th returned value of the chi2_contingency() and we will use it to print out the contingency table. \n",
    "\n",
    "\\begin{equation}\n",
    "expectedValue = \\frac{{row Total} x {column Total}}{ grand Total}\n",
    "\\end{equation}"
   ]
  },
  {
   "cell_type": "code",
   "execution_count": 6,
   "metadata": {},
   "outputs": [
    {
     "name": "stdout",
     "output_type": "stream",
     "text": [
      "===Expected Table===\n"
     ]
    },
    {
     "data": {
      "text/html": [
       "<div>\n",
       "<style scoped>\n",
       "    .dataframe tbody tr th:only-of-type {\n",
       "        vertical-align: middle;\n",
       "    }\n",
       "\n",
       "    .dataframe tbody tr th {\n",
       "        vertical-align: top;\n",
       "    }\n",
       "\n",
       "    .dataframe thead th {\n",
       "        text-align: right;\n",
       "    }\n",
       "</style>\n",
       "<table border=\"1\" class=\"dataframe\">\n",
       "  <thead>\n",
       "    <tr style=\"text-align: right;\">\n",
       "      <th></th>\n",
       "      <th>A</th>\n",
       "      <th>B</th>\n",
       "      <th>C</th>\n",
       "      <th>D</th>\n",
       "    </tr>\n",
       "  </thead>\n",
       "  <tbody>\n",
       "    <tr>\n",
       "      <th>White collar</th>\n",
       "      <td>80.54</td>\n",
       "      <td>80.54</td>\n",
       "      <td>107.38</td>\n",
       "      <td>80.54</td>\n",
       "    </tr>\n",
       "    <tr>\n",
       "      <th>Blue collar</th>\n",
       "      <td>34.85</td>\n",
       "      <td>34.85</td>\n",
       "      <td>46.46</td>\n",
       "      <td>34.85</td>\n",
       "    </tr>\n",
       "    <tr>\n",
       "      <th>No collar</th>\n",
       "      <td>34.62</td>\n",
       "      <td>34.62</td>\n",
       "      <td>46.15</td>\n",
       "      <td>34.62</td>\n",
       "    </tr>\n",
       "  </tbody>\n",
       "</table>\n",
       "</div>"
      ],
      "text/plain": [
       "                  A      B       C      D\n",
       "White collar  80.54  80.54  107.38  80.54\n",
       "Blue collar   34.85  34.85   46.46  34.85\n",
       "No collar     34.62  34.62   46.15  34.62"
      ]
     },
     "execution_count": 6,
     "metadata": {},
     "output_type": "execute_result"
    }
   ],
   "source": [
    "print(\"===Expected Table===\")\n",
    "#create a contingency table from the expectedValue\n",
    "#eg for first row and column (150x349)/650 = 80.538\n",
    "pd.DataFrame(\n",
    "    data=ex[:,:],\n",
    "    index = data,\n",
    "    columns = neigbourhoods\n",
    ").round(2)"
   ]
  },
  {
   "cell_type": "markdown",
   "metadata": {},
   "source": [
    "## 𝜒2 value\n",
    "\n",
    "The Chi Square value 𝜒2 is the 1st returned value of chi2_contingency() and is a measure of the difference between the observed and the expected data and given by the formula.[5] \n",
    "\n",
    "\\begin{equation}\n",
    "\\chi^2 = \\sum{\\frac{(observed−expected)^2}{expected}}\n",
    "\\end{equation}\n",
    "[5]https://www.investopedia.com/terms/c/chi-square-statistic.asp"
   ]
  },
  {
   "cell_type": "code",
   "execution_count": 7,
   "metadata": {},
   "outputs": [
    {
     "name": "stdout",
     "output_type": "stream",
     "text": [
      "(Observed - Expected)^2/Expected\n"
     ]
    },
    {
     "data": {
      "text/html": [
       "<table border=\"1\" class=\"dataframe\">\n",
       "  <thead>\n",
       "    <tr style=\"text-align: right;\">\n",
       "      <th></th>\n",
       "      <th>A</th>\n",
       "      <th>B</th>\n",
       "      <th>C</th>\n",
       "      <th>D</th>\n",
       "    </tr>\n",
       "  </thead>\n",
       "  <tbody>\n",
       "    <tr>\n",
       "      <th>White collar</th>\n",
       "      <td>1.11</td>\n",
       "      <td>5.24</td>\n",
       "      <td>0.11</td>\n",
       "      <td>2.60</td>\n",
       "    </tr>\n",
       "    <tr>\n",
       "      <th>Blue collar</th>\n",
       "      <td>0.67</td>\n",
       "      <td>6.59</td>\n",
       "      <td>0.44</td>\n",
       "      <td>6.33</td>\n",
       "    </tr>\n",
       "    <tr>\n",
       "      <th>No collar</th>\n",
       "      <td>0.62</td>\n",
       "      <td>0.84</td>\n",
       "      <td>0.03</td>\n",
       "      <td>0.00</td>\n",
       "    </tr>\n",
       "  </tbody>\n",
       "</table>"
      ],
      "text/plain": [
       "<IPython.core.display.HTML object>"
      ]
     },
     "metadata": {},
     "output_type": "display_data"
    },
    {
     "name": "stdout",
     "output_type": "stream",
     "text": [
      "Sum all the values to get the 𝜒2 Value\n",
      "\n",
      "===𝜒2 Value===\n",
      "24.5712028585826\n"
     ]
    }
   ],
   "source": [
    "#Calculate on each row and column\n",
    "#And sum to find the X2 value\n",
    "val = pow(ex - collars,2)\n",
    "val = val/ex\n",
    "#Summing the rows and columns\n",
    "x2_val = sum(val)\n",
    "x2_val = sum(x2_val)\n",
    "\n",
    "#Confirm we have the right value by comparing with chi2_contingency val\n",
    "assert isclose(x2_val, chi2, abs_tol=1e-8)\n",
    "\n",
    "#Show the (observed - expected)^2 / expected\n",
    "#eg for first row and column (90-80.54)^2/80.54 = 1.11\n",
    "x2_data = pd.DataFrame(\n",
    "    data=val[:,:],\n",
    "    index = data,\n",
    "    columns = neigbourhoods\n",
    ").round(2)\n",
    "\n",
    "print(\"(Observed - Expected)^2/Expected\")\n",
    "display(HTML(x2_data.to_html()))\n",
    "print(\"Sum all the values to get the 𝜒2 Value\\n\")\n",
    "\n",
    "##Chi2 value using \n",
    "print(\"===𝜒2 Value===\")\n",
    "print(chi2)\n"
   ]
  },
  {
   "cell_type": "markdown",
   "metadata": {},
   "source": [
    "## Degree of Freedom\n",
    "\n",
    "The degree of freedom is the number of catergories minus 1 and used to determine the critical value.[8]\n",
    "\n",
    "\\begin{equation}\n",
    "{dof = (no. of rows -1) X (no. of columns -1)}\n",
    "\\end{equation}\n",
    "\n",
    "In our case its\n",
    "\n",
    "\\begin{equation}\n",
    "{dof = (3 -1) X (4 -1) = 2X3 = 6}\n",
    "\\end{equation}\n",
    "\n",
    "[8]https://www.statisticshowto.com/probability-and-statistics/chi-square/"
   ]
  },
  {
   "cell_type": "code",
   "execution_count": 8,
   "metadata": {},
   "outputs": [
    {
     "name": "stdout",
     "output_type": "stream",
     "text": [
      "===Degree of Freedom===\n",
      "6\n"
     ]
    }
   ],
   "source": [
    "print(\"===Degree of Freedom===\")\n",
    "print(dof)"
   ]
  },
  {
   "cell_type": "markdown",
   "metadata": {},
   "source": [
    "## p-Value\n",
    "\n",
    "The p-Value is the probability value that is used to determine if we reject the null hypothesis (ie. that there are no associtaions between the variables). It we get a low p-value we reject the null hypothesis and can determine that the varibale are dependent on one another. It is the second returned value from the chi2_contingency() function.\n",
    "\n",
    "[7]https://www.machinelearningplus.com/statistics/what-is-p-value/"
   ]
  },
  {
   "cell_type": "code",
   "execution_count": 9,
   "metadata": {},
   "outputs": [
    {
     "name": "stdout",
     "output_type": "stream",
     "text": [
      "===p-Value===\n",
      "0.0004098425861096696\n"
     ]
    }
   ],
   "source": [
    "print(\"===p-Value===\")\n",
    "print(p_val)"
   ]
  },
  {
   "cell_type": "markdown",
   "metadata": {},
   "source": []
  },
  {
   "cell_type": "markdown",
   "metadata": {},
   "source": [
    "## Conclusion\n",
    "\n",
    "There is a significant relationship between the type of occupation and the neighbourhoods people are from.\n",
    "\n",
    "The usual cut-off value for a p-value is 0.05[9] and the null hypothesis will be disregarded. The p-value calculated for this dataset is 0.00041. 0.00041 < 0.05 and by a large enough margin that the null hypothesis can be ignored and we can conclude that the occupations and what neighbourhoods people are in, are in fact dependent on one another with ~95% certainty.[10] \n",
    "\n",
    "𝜒2 (degress of freedom, N = sample size) = chi-square statistic value, p = p value.[11]\n",
    "\n",
    "𝜒2(6, N= 650)=24.57, p = 0.0004\n",
    "\n",
    "[9] https://www.ling.upenn.edu/~clight/chisquared.htm\n",
    "\n",
    "[10]  https://www.statisticssolutions.com/using-chi-square-statistic-in-research/\n",
    "\n",
    "[11]https://www.socscistatistics.com/tutorials/chisquare/default.aspx"
   ]
  },
  {
   "cell_type": "markdown",
   "metadata": {},
   "source": [
    "END"
   ]
  }
 ],
 "metadata": {
  "kernelspec": {
   "display_name": "Python 3",
   "language": "python",
   "name": "python3"
  },
  "language_info": {
   "codemirror_mode": {
    "name": "ipython",
    "version": 3
   },
   "file_extension": ".py",
   "mimetype": "text/x-python",
   "name": "python",
   "nbconvert_exporter": "python",
   "pygments_lexer": "ipython3",
   "version": "3.8.3"
  }
 },
 "nbformat": 4,
 "nbformat_minor": 4
}
