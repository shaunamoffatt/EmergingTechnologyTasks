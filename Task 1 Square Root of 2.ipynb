{
 "cells": [
  {
   "cell_type": "markdown",
   "metadata": {},
   "source": [
    "# Square Root of 2 in Python\n",
    "\n",
    "TODO: \n",
    "* Write a Python function called sqrt2 that calculates and prints to the screen the square root of 2 to 100 decimal places. \n",
    "* Your code should not depend on any module from the standard library or otherwise. \n",
    "* You should research the task first and include references and a description of your algorithm."
   ]
  },
  {
   "attachments": {
    "image.png": {
     "image/png": "[encoded data removed]"
    }
   },
   "cell_type": "markdown",
   "metadata": {},
   "source": [
    "## Pythagoras's Constant\n",
    "\n",
    "Pythagoras's constant, the $\\sqrt{2}$, can be easily visualized as the hypothenus of a right angle with equal opposite and adjacent sides of length 1 (as seen below in fig \\cite{WolframAlphaPy} ) \n",
    "\n",
    "![image.png](attachment:image.png)\n",
    "\n",
    "\n",
    "[1] Pythagoras's Constant -- from Wolfram MathWorld. (2020). Retrieved 26 October 2020, from https://mathworld.wolfram.com/PythagorassConstant.html#:~:text=(OEIS%20A002193)%2C%20which%20the%20Pythagoreans%20proved%20to%20be%20irrational.&text=while%20at%20sea%20and%2C%20upon,sometimes%20known%20as%20Pythagoras's%20theorem."
   ]
  },
  {
   "cell_type": "markdown",
   "metadata": {},
   "source": [
    "## Newton-Rhapson Method for Calculating Square Roots\n",
    "\n",
    "The Newton-Rhapson Method can be used to calculate an increasingly close approximation for the root of a function after every iteration.[5] \n",
    "\n",
    "\\begin{equation*}\n",
    "{x}_{n+1} = x_n - \\frac{f(x_n)}{f'(x_n)}\n",
    "\\end{equation*}\n",
    "\n",
    "Where ${x_n}$, with ${x_n>0}$ is the guess and ${x_n+1}$ is next guess,\n",
    " \n",
    "The function to find the square root of a number is :\n",
    "\n",
    "\\begin{equation*}\n",
    "x = \\sqrt{N}\n",
    "\\end{equation*}\n",
    "\n",
    "\\begin{equation*}\n",
    "{x}^2 = N\n",
    "\\end{equation*}\n",
    "\n",
    "\\begin{equation*}\n",
    "{x}^2 - N = 0\n",
    "\\end{equation*}\n",
    "\n",
    "\\begin{equation*}\n",
    "f(x) = {x}^2 - N\n",
    "\\end{equation*}\n",
    "\n",
    "Taking ${x=x_n}$ to be an approximation a\n",
    "\n",
    "\\begin{equation*}\n",
    "f(x_n) = {x_n}^2 - 2\n",
    "\\end{equation*}\n",
    "\n",
    "The derivative:\n",
    "\n",
    "\\begin{equation*}\n",
    "f'(x_n) = 2{x_n}\n",
    "\\end{equation*}\n",
    "\n",
    "Slotting into Newton Raphson and simplifying:\n",
    "\n",
    "\\begin{equation*}\n",
    "{x}_{n+1} = x_n - \\frac{{x_n}^2 - N}{2{x_n}}\n",
    "\\end{equation*}\n",
    "\n",
    "\\begin{equation*}\n",
    "{x}_{n+1} = \\frac{2{x_n}^2}{2{x_n}} - \\frac{{x_n}^2}{2{x_n}} + \\frac{N}{2x_n}\n",
    "\\end{equation*}\n",
    " \n",
    "\\begin{equation*}\n",
    "{x}_{n+1} = \\frac{x_n²}{2} + \\frac{N}{2{x_n}}\n",
    "\\end{equation*}\n",
    "\n",
    "Yields the formula below:\n",
    "\n",
    "\\begin{equation*}\n",
    "{x}_{n+1} = \\frac{1}{2}  \\Big({x_{n} + \\frac{N}{x_n}}\\Big) \n",
    "\\end{equation*}\n",
    "\n",
    "#### Steps:\n",
    "* 1.Make an estimation for the approximation for the square root : ${x_n = estimation = 1.4}$\n",
    "* 2.Add the estimation to 2 divide by the first estimation(which we want the square root of), then divide the answer in half ${0.5(x_n + \\frac{2}{x_n})}$ => ${0.5(1.4 + \\frac{2}{1.4})}$ => returns the next estimation ${1.4142857142857141}$\n",
    "* 3.Repeat step 2, using next estimation, until\n",
    "\n",
    "\n",
    "[5] Calculating the Square Root of a Number using the  Newton-Raphson Method [A How To Guide] ,Retrieved 3 Nov 2020 https://hackernoon.com/calculating-the-square-root-of-a-number-using-the-newton-raphson-method-a-how-to-guide-yr4e32zo\n",
    "[3] Find root of a number using Newton's method - GeeksforGeeks. (2020). Retrieved 26 October 2020, from https://www.geeksforgeeks.org/find-root-of-a-number-using-newtons-method/\n",
    "[2]S. G. Johnson, MIT Course 18.335 (February 4, 2015), Square Roots via Newton’s Method. Retrieved 26 October 2020, from https://math.mit.edu/~stevenj/18.335/newton-sqrt.pdf\n",
    "[4]Allen B. Downey , \"Chapter 7  Iteration\" in Think Python 1st Edition, O'REILLY\n",
    "[]Python Math: Computing square roots using the Babylonian method - w3resource. (2020). Retrieved 27 October 2020, from https://www.w3resource.com/python-exercises/math/python-math-exercise-18.php"
   ]
  },
  {
   "cell_type": "code",
   "execution_count": 53,
   "metadata": {},
   "outputs": [
    {
     "name": "stdout",
     "output_type": "stream",
     "text": [
      "The Square Root of 2 to 100 decimal places using Newtons Method {} is :\n",
      "x_1 = 2\n",
      "x_2 = 1.5\n",
      "x_3 = 1.4166666666666665\n",
      "x_3 = 1.4142156862745097\n",
      "Total iterations counts to find the approximation: 4\n",
      "1.4142156862745096645994635764509439468383789062500000000000000000000000000000000000000000000000000000\n"
     ]
    },
    {
     "data": {
      "image/png": "[encoded data removed]",
      "text/plain": [
       "<Figure size 432x288 with 1 Axes>"
      ]
     },
     "metadata": {
      "needs_background": "light"
     },
     "output_type": "display_data"
    }
   ],
   "source": [
    "import matplotlib.pyplot as plt\n",
    "def NewtonMethodForSquareRoot(x = 2, precision = 0.001) : \n",
    "    plt.figure()\n",
    "    #make an estimation for the square root \n",
    "    root = x \n",
    "    #value to count the number of iterations  \n",
    "    count = 1 \n",
    "    #plot first estimation\n",
    "    plt.scatter(root, count)\n",
    "    \n",
    "    #while\n",
    "    while abs(x - root * root) > precision:\n",
    "        count += 1 \n",
    "        print(\"x_{} = {}\".format(count-1,root))\n",
    "        root = (root + x / root) / 2\n",
    "        plt.scatter(root, count)\n",
    "    \n",
    "    #extra to print final \n",
    "    print(\"x_{} = {}\".format(count-1,root))\n",
    "    print('Total iterations counts to find the approximation: {}'.format(count));\n",
    "    return root  \n",
    "\n",
    "print('The Square Root of 2 to 100 decimal places using Newtons Method {} is :');\n",
    "print(\"{0:.100f}\".format(NewtonMethodForSquareRoot()))"
   ]
  },
  {
   "cell_type": "markdown",
   "metadata": {},
   "source": [
    "## Tests and Comparisons\n",
    "\n",
    "Import pythons square root funtion "
   ]
  },
  {
   "cell_type": "code",
   "execution_count": 2,
   "metadata": {},
   "outputs": [
    {
     "name": "stdout",
     "output_type": "stream",
     "text": [
      "1.4142135623730951\n",
      "1.4142135623730951454746218587388284504413604736328125000000000000000000000000000000000000000000000000\n"
     ]
    }
   ],
   "source": [
    "import math\n",
    "\n",
    "print(math.sqrt(2));\n",
    "print(\"{0:.100f}\".format(math.sqrt(2)))"
   ]
  },
  {
   "cell_type": "markdown",
   "metadata": {},
   "source": [
    "End"
   ]
  },
  {
   "cell_type": "markdown",
   "metadata": {},
   "source": [
    "## References [](#cite-CITATION ID)\n",
    "\n",
    "<!--bibtex\n",
    "\n",
    "@ENTRY TYPE{CITATION ID,\n",
    "    FIELD 1 = {source specific information},\n",
    "    FIELD 2 = {source specific informatio},\n",
    "    FIEL 3 = {source specific informatio},\n",
    "    FIELD 4 = {source specific informatio}\n",
    "}\n",
    "\n",
    "-->"
   ]
  },
  {
   "cell_type": "code",
   "execution_count": null,
   "metadata": {},
   "outputs": [],
   "source": []
  }
 ],
 "metadata": {
  "kernelspec": {
   "display_name": "Python 3",
   "language": "python",
   "name": "python3"
  },
  "language_info": {
   "codemirror_mode": {
    "name": "ipython",
    "version": 3
   },
   "file_extension": ".py",
   "mimetype": "text/x-python",
   "name": "python",
   "nbconvert_exporter": "python",
   "pygments_lexer": "ipython3",
   "version": "3.8.3"
  }
 },
 "nbformat": 4,
 "nbformat_minor": 4
}
