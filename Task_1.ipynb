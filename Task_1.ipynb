{
 "cells": [
  {
   "cell_type": "markdown",
   "metadata": {},
   "source": [
    "# Square Root of 2 in Python\n"
   ]
  },
  {
   "attachments": {
    "image.png": {
     "image/png": "[encoded data removed]"
    }
   },
   "cell_type": "markdown",
   "metadata": {},
   "source": [
    "## Pythagoras's Constant\n",
    "\n",
    "Pythagoras's constant, the $\\sqrt{2}$, can be easily visualized as the hypothenus of a right angle with equal opposite and adjacent sides of length 1 (as seen below in fig \\cite{WolframAlphaPy} ) \n",
    "\n",
    "![image.png](attachment:image.png)\n",
    "\n",
    "\n",
    "[1] Pythagoras's Constant -- from Wolfram MathWorld. (2020). Retrieved 26 October 2020, from https://mathworld.wolfram.com/PythagorassConstant.html#:~:text=(OEIS%20A002193)%2C%20which%20the%20Pythagoreans%20proved%20to%20be%20irrational.&text=while%20at%20sea%20and%2C%20upon,sometimes%20known%20as%20Pythagoras's%20theorem."
   ]
  },
  {
   "cell_type": "markdown",
   "metadata": {},
   "source": [
    "## Newton-Rhapson Method for Calculating Square Roots\n",
    "\n",
    "The Newton-Rhapson Method can be used to calculate an increasingly close approximation for the root of a function after every iteration.[5] \n",
    "\n",
    "\\begin{equation*}\n",
    "{x}_{n+1} = x_n - \\frac{f(x_n)}{f'(x_n)}\n",
    "\\end{equation*}\n",
    "\n",
    "Where ${x_n}$, with ${x_n>0}$ is the guess and ${x_n+1}$ is next guess,\n",
    " \n",
    "The function to find the square root of a number is :\n",
    "\n",
    "\\begin{equation*}\n",
    "x = \\sqrt{N}\n",
    "\\end{equation*}\n",
    "\n",
    "\\begin{equation*}\n",
    "{x}^2 = N\n",
    "\\end{equation*}\n",
    "\n",
    "\\begin{equation*}\n",
    "{x}^2 - N = 0\n",
    "\\end{equation*}\n",
    "\n",
    "\\begin{equation*}\n",
    "f(x) = {x}^2 - N\n",
    "\\end{equation*}\n",
    "\n",
    "Taking ${x=x_n}$ to be an approximation a\n",
    "\n",
    "\\begin{equation*}\n",
    "f(x_n) = {x_n}^2 - 2\n",
    "\\end{equation*}\n",
    "\n",
    "The derivative:\n",
    "\n",
    "\\begin{equation*}\n",
    "f'(x_n) = 2{x_n}\n",
    "\\end{equation*}\n",
    "\n",
    "Slotting into Newton Raphson and simplifying:\n",
    "\n",
    "\\begin{equation*}\n",
    "{x}_{n+1} = x_n - \\frac{{x_n}^2 - N}{2{x_n}}\n",
    "\\end{equation*}\n",
    "\n",
    "\\begin{equation*}\n",
    "{x}_{n+1} = \\frac{2{x_n}^2}{2{x_n}} - \\frac{{x_n}^2}{2{x_n}} + \\frac{N}{2x_n}\n",
    "\\end{equation*}\n",
    " \n",
    "\\begin{equation*}\n",
    "{x}_{n+1} = \\frac{x_n²}{2} + \\frac{N}{2{x_n}}\n",
    "\\end{equation*}\n",
    "\n",
    "Yields the formula below:\n",
    "\n",
    "\\begin{equation*}\n",
    "{x}_{n+1} = \\frac{1}{2}  \\Big({x_{n} + \\frac{N}{x_n}}\\Big) \n",
    "\\end{equation*}\n",
    "\n",
    "#### Steps:\n",
    "* 1.Make an estimation for the approximation for the square root : ${x_n = estimation = 1.4}$\n",
    "* 2.Add the estimation to 2 divide by the first estimation(which we want the square root of), then divide the answer in half ${0.5(x_n + \\frac{2}{x_n})}$ => ${0.5(1.4 + \\frac{2}{1.4})}$ => returns the next estimation ${1.4142857142857141}$\n",
    "* 3.Repeat step 2, using next estimation, until\n",
    "\n",
    "\n",
    "[5] Calculating the Square Root of a Number using the  Newton-Raphson Method [A How To Guide] ,Retrieved 3 Nov 2020 https://hackernoon.com/calculating-the-square-root-of-a-number-using-the-newton-raphson-method-a-how-to-guide-yr4e32zo\n",
    "[3] Find root of a number using Newton's method - GeeksforGeeks. (2020). Retrieved 26 October 2020, from https://www.geeksforgeeks.org/find-root-of-a-number-using-newtons-method/\n",
    "[2]S. G. Johnson, MIT Course 18.335 (February 4, 2015), Square Roots via Newton’s Method. Retrieved 26 October 2020, from https://math.mit.edu/~stevenj/18.335/newton-sqrt.pdf\n",
    "[4]Allen B. Downey , \"Chapter 7  Iteration\" in Think Python 1st Edition, O'REILLY\n",
    "[]Python Math: Computing square roots using the Babylonian method - w3resource. (2020). Retrieved 27 October 2020, from https://www.w3resource.com/python-exercises/math/python-math-exercise-18.php"
   ]
  },
  {
   "cell_type": "code",
   "execution_count": 1,
   "metadata": {},
   "outputs": [],
   "source": [
    "## Packages\n",
    "import matplotlib.pyplot as plt\n",
    "import math\n",
    "import decimal "
   ]
  },
  {
   "cell_type": "markdown",
   "metadata": {},
   "source": [
    "## Newton-Rhapson Method in Python"
   ]
  },
  {
   "cell_type": "code",
   "execution_count": 2,
   "metadata": {},
   "outputs": [],
   "source": [
    "'''\n",
    "    x : setting 2 to be default as we are interested in \n",
    "    finding the value of squareroot of 3\n",
    "    precision : setting the precision to be 10 decimal places \n",
    "    for the stopping criteria \n",
    "'''\n",
    "def NewtonMethodForSquareRoot(x = 2, precision = 1e-10) : \n",
    "    plt.figure()\n",
    "    #make an estimation for the square root \n",
    "    root = x\n",
    "    previous_root= -1000000\n",
    "    #value to count the number of iterations  \n",
    "    count = 1 \n",
    "    #plot first estimation\n",
    "    plt.scatter(root, count)\n",
    "    \n",
    "    #while\n",
    "    while (math.isclose(root, previous_root, rel_tol = precision) == False):\n",
    "        count += 1 \n",
    "        print(\"x_{} = {}\".format(count-1,root))\n",
    "        previous_root = root\n",
    "        root = (root + x / root) / 2\n",
    "        plt.scatter(root, count)\n",
    "    \n",
    "    #extra to print final \n",
    "    print(\"x_{} = {}\".format(count,root))\n",
    "    print('Total iterations counts to find the approximation: {}'.format(count));\n",
    "    return root  "
   ]
  },
  {
   "cell_type": "markdown",
   "metadata": {},
   "source": [
    "### Precision of 2 decimal places"
   ]
  },
  {
   "cell_type": "code",
   "execution_count": 3,
   "metadata": {},
   "outputs": [
    {
     "name": "stdout",
     "output_type": "stream",
     "text": [
      "ANSWER 1: Precision  of 1e-2\n",
      "\n",
      "x_1 = 2\n",
      "x_2 = 1.5\n",
      "x_3 = 1.4166666666666665\n",
      "x_4 = 1.4142156862745097\n",
      "Total iterations counts to find the approximation: 4\n",
      "The Square Root of 2 to 100 decimals\n",
      "1.4142156862745096645994635764509439468383789062500000000000000000000000000000000000000000000000000000\n"
     ]
    },
    {
     "data": {
      "image/png": "[encoded data removed]",
      "text/plain": [
       "<Figure size 432x288 with 1 Axes>"
      ]
     },
     "metadata": {
      "needs_background": "light"
     },
     "output_type": "display_data"
    }
   ],
   "source": [
    "print(\"ANSWER 1: Precision  of 1e-2\\n\")\n",
    "ans1 = NewtonMethodForSquareRoot(2, 1e-2);\n",
    "print('The Square Root of 2 to 100 decimals');\n",
    "print(\"{0:.100f}\".format(ans1))"
   ]
  },
  {
   "cell_type": "markdown",
   "metadata": {},
   "source": [
    "### Precision of 4 decimal places"
   ]
  },
  {
   "cell_type": "code",
   "execution_count": 4,
   "metadata": {},
   "outputs": [
    {
     "name": "stdout",
     "output_type": "stream",
     "text": [
      "ANSWER 2: Precision  of 1e-4\n",
      "\n",
      "x_1 = 2\n",
      "x_2 = 1.5\n",
      "x_3 = 1.4166666666666665\n",
      "x_4 = 1.4142156862745097\n",
      "x_5 = 1.4142135623746899\n",
      "Total iterations counts to find the approximation: 5\n",
      "\n",
      "The Square Root of 2 to 100 decimal places using Newtons Method is :\n",
      "\n",
      "1.4142135623746898698271934335934929549694061279296875000000000000000000000000000000000000000000000000\n"
     ]
    },
    {
     "data": {
      "image/png": "[encoded data removed]",
      "text/plain": [
       "<Figure size 432x288 with 1 Axes>"
      ]
     },
     "metadata": {
      "needs_background": "light"
     },
     "output_type": "display_data"
    }
   ],
   "source": [
    "print(\"ANSWER 2: Precision  of 1e-4\\n\")\n",
    "ans2 = NewtonMethodForSquareRoot(2, 1e-4);\n",
    "print('\\nThe Square Root of 2 to 100 decimal places using Newtons Method is :');\n",
    "print(\"\\n{0:.100f}\".format(ans2))"
   ]
  },
  {
   "cell_type": "markdown",
   "metadata": {},
   "source": [
    "### Precision of 10 decimal places"
   ]
  },
  {
   "cell_type": "code",
   "execution_count": 5,
   "metadata": {},
   "outputs": [
    {
     "name": "stdout",
     "output_type": "stream",
     "text": [
      "ANSWER 3: Precision  of 1e-10\n",
      "\n",
      "x_1 = 2\n",
      "x_2 = 1.5\n",
      "x_3 = 1.4166666666666665\n",
      "x_4 = 1.4142156862745097\n",
      "x_5 = 1.4142135623746899\n",
      "x_6 = 1.414213562373095\n",
      "Total iterations counts to find the approximation: 6\n",
      "\n",
      "The Square Root of 2 to 100 decimal places using Newtons Method is :\n",
      "\n",
      "1.4142135623730949234300169337075203657150268554687500000000000000000000000000000000000000000000000000\n"
     ]
    },
    {
     "data": {
      "image/png": "[encoded data removed]",
      "text/plain": [
       "<Figure size 432x288 with 1 Axes>"
      ]
     },
     "metadata": {
      "needs_background": "light"
     },
     "output_type": "display_data"
    }
   ],
   "source": [
    "print(\"ANSWER 3: Precision  of 1e-10\\n\")\n",
    "ans3 = NewtonMethodForSquareRoot();\n",
    "print('\\nThe Square Root of 2 to 100 decimal places using Newtons Method is :');\n",
    "print(\"\\n{0:.100f}\".format(ans3))"
   ]
  },
  {
   "cell_type": "markdown",
   "metadata": {},
   "source": [
    "### Precision of 50 decimal places"
   ]
  },
  {
   "cell_type": "code",
   "execution_count": 6,
   "metadata": {},
   "outputs": [
    {
     "name": "stdout",
     "output_type": "stream",
     "text": [
      "ANSWER 4: Precision  of 1e-40\n",
      "\n",
      "x_1 = 2\n",
      "x_2 = 1.5\n",
      "x_3 = 1.4166666666666665\n",
      "x_4 = 1.4142156862745097\n",
      "x_5 = 1.4142135623746899\n",
      "x_6 = 1.414213562373095\n",
      "x_7 = 1.414213562373095\n",
      "Total iterations counts to find the approximation: 7\n",
      "\n",
      "The Square Root of 2 to 100 decimal places using Newtons Method is :\n",
      "\n",
      "1.4142135623730949234300169337075203657150268554687500000000000000000000000000000000000000000000000000\n"
     ]
    },
    {
     "data": {
      "image/png": "[encoded data removed]",
      "text/plain": [
       "<Figure size 432x288 with 1 Axes>"
      ]
     },
     "metadata": {
      "needs_background": "light"
     },
     "output_type": "display_data"
    }
   ],
   "source": [
    "print(\"ANSWER 4: Precision  of 1e-40\\n\")\n",
    "ans4 = NewtonMethodForSquareRoot(2,1e-50);\n",
    "print('\\nThe Square Root of 2 to 100 decimal places using Newtons Method is :');\n",
    "print(\"\\n{0:.100f}\".format(ans3))"
   ]
  },
  {
   "cell_type": "markdown",
   "metadata": {},
   "source": [
    "## Tests and Comparisons\n",
    "\n",
    "Import pythons square root funtion \n"
   ]
  },
  {
   "cell_type": "code",
   "execution_count": 7,
   "metadata": {},
   "outputs": [
    {
     "name": "stdout",
     "output_type": "stream",
     "text": [
      "The square root of 2 using pythons math library\n",
      "1.4142135623730951454746218587388284504413604736328125000000000000000000000000000000000000000000000000\n"
     ]
    }
   ],
   "source": [
    "mat2= math.sqrt(2)\n",
    "print(\"The square root of 2 using pythons math library\")\n",
    "print(\"{0:.100f}\".format(mat2))"
   ]
  },
  {
   "cell_type": "code",
   "execution_count": 8,
   "metadata": {},
   "outputs": [],
   "source": [
    "def compareResults(r1,r2):\n",
    "    same = True\n",
    "    dec_place = 1\n",
    "    #https://docs.python.org/3/whatsnew/3.5.html#pep-485-a-function-for-testing-approximate-equality\n",
    "    while same == True:\n",
    "        dec_place = dec_place/10\n",
    "        closeness =  math.isclose(r1, r2, rel_tol=dec_place)\n",
    "        if(closeness == False):\n",
    "            same = closeness\n",
    "            print(\"They are the same up to {:.0e} decimal places\".format(dec_place))\n"
   ]
  },
  {
   "cell_type": "code",
   "execution_count": 9,
   "metadata": {},
   "outputs": [
    {
     "name": "stdout",
     "output_type": "stream",
     "text": [
      "Check if the Newton-Rhapson is close to The math.sqrt(2)\n",
      "\n",
      "Compare with Newton-Rhapson using a prescision of 1e-2\n",
      "They are the same up to 1e-06 decimal places\n",
      "\n",
      "Compare with Newton-Rhapson using a prescision of 1e-4\n",
      "They are the same up to 1e-12 decimal places\n",
      "\n",
      "Compare with Newton-Rhapson using a prescision of 1e-10\n",
      "They are the same up to 1e-16 decimal places\n",
      "\n",
      "Compare with Newton-Rhapson using a prescision of 1e-40\n",
      "They are the same up to 1e-16 decimal places\n"
     ]
    }
   ],
   "source": [
    "print(\"Check if the Newton-Rhapson is close to The math.sqrt(2)\") \n",
    "\n",
    "print(\"\\nCompare with Newton-Rhapson using a prescision of 1e-2\")\n",
    "compareResults(mat2,ans1)\n",
    "print(\"\\nCompare with Newton-Rhapson using a prescision of 1e-4\")\n",
    "compareResults(mat2,ans2)\n",
    "print(\"\\nCompare with Newton-Rhapson using a prescision of 1e-10\")\n",
    "compareResults(mat2,ans3)\n",
    "print(\"\\nCompare with Newton-Rhapson using a prescision of 1e-40\")\n",
    "compareResults(mat2,ans4)"
   ]
  },
  {
   "cell_type": "markdown",
   "metadata": {},
   "source": [
    "## Conclusion\n",
    "\n",
    "When using a smaller precision value we can get closer and closer to a good approximate for the squareRoot of 2.\n",
    "\n",
    "The Newton-Rhapson Method is the same as Pythons math function for calculating the square root of 2 **up 16 decimal places**. It give a fairly accurate result and is a fast and effective use for calculating an approximate.\n",
    "\n",
    "SquareRoot of 2 using the Newton Rhapson Method: ~ 1.4142135623730949234300169337075203657150268554687500"
   ]
  },
  {
   "cell_type": "markdown",
   "metadata": {},
   "source": [
    "END"
   ]
  }
 ],
 "metadata": {
  "kernelspec": {
   "display_name": "Python 3",
   "language": "python",
   "name": "python3"
  },
  "language_info": {
   "codemirror_mode": {
    "name": "ipython",
    "version": 3
   },
   "file_extension": ".py",
   "mimetype": "text/x-python",
   "name": "python",
   "nbconvert_exporter": "python",
   "pygments_lexer": "ipython3",
   "version": "3.8.3"
  }
 },
 "nbformat": 4,
 "nbformat_minor": 4
}
