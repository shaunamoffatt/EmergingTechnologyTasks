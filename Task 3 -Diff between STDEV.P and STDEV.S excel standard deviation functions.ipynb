{
 "cells": [
  {
   "cell_type": "markdown",
   "metadata": {},
   "source": [
    "## Variance and Standard Deviation\n",
    "\n",
    "Variance $(\\sigma)^2$ is a measure of the spread of dataset[4] and can be calculated by \n",
    "\n",
    "    1. Calculating the mean of the dataset: which is the sum of all the values in the dataset divided by the total number of data :\n",
    "    \n",
    "\\begin{equation}\n",
    " \\bar{x} = {\\frac{\\sum{(x_i)}}{n}}\n",
    "\\end{equation}\n",
    "    \n",
    "    2. Individually subtracting the mean from each number in the dataset gives the distance each value is from the mean.\n",
    "\\begin{equation}\n",
    " {x-\\bar{x}}\n",
    "\\end{equation}\n",
    "    \n",
    "    3. Squaring the result of each distance so that they are positive and adding all the postitive distances together.\n",
    "\\begin{equation}\n",
    "  {{\\sum{(x-\\bar{x})}^2}}\n",
    "\\end{equation}\n",
    "\n",
    "    4. Finally divide the sum of the square distances by the number of values in the data set.[5]\n",
    "\\begin{equation}\n",
    " \\sigma^2 = {\\frac{\\sum{(x-\\bar{x})}^2}{n}}\n",
    "\\end{equation}\n",
    "\n",
    "\n",
    "\n",
    "The Standard Deviation $\\sigma$ is simply the positive square root the variance $(\\sigma)^2$ and also often used to measure the disperion of a data/numbers (ie scatter).[3]\n",
    "\n",
    "\\begin{equation}\n",
    "\\sqrt{\\frac{\\sum{(x-\\bar{x})}^2}{n}}\n",
    "\\end{equation}\n",
    "\n",
    "[5]https://www.sciencebuddies.org/science-fair-projects/science-fair/variance-and-standard-deviation#:~:text=You%20take%20the%20sum%20of,the%20two%20equations%20are%20equivalent.\n",
    "\n",
    "[4] https://www150.statcan.gc.ca/n1/edu/power-pouvoir/ch12/5214891-eng.htm\n",
    "\n",
    "[3]Dukkipati, Rao V, and Q. Probability and Statistics. Tunbridge Wells: New Academic Science, 2011. Web. pg 13\n",
    "\n",
    "[2]https://mathworld.wolfram.com/StandardDeviation.html"
   ]
  },
  {
   "cell_type": "code",
   "execution_count": null,
   "metadata": {},
   "outputs": [],
   "source": []
  },
  {
   "cell_type": "markdown",
   "metadata": {},
   "source": [
    "## STDEV.P\n",
    "\n",
    "\"STDEV.P uses the following formula:\"[1]\n",
    "\\begin{equation}\n",
    "\\sqrt{\\frac{\\sum{(x-\\bar{x})}^2}{n}}\n",
    "\\end{equation}\n",
    "\n",
    "[1]https://support.microsoft.com/en-us/office/stdev-p-function-6e917c05-31a0-496f-ade7-4f4e7462f285"
   ]
  },
  {
   "cell_type": "code",
   "execution_count": null,
   "metadata": {},
   "outputs": [],
   "source": []
  },
  {
   "cell_type": "code",
   "execution_count": null,
   "metadata": {},
   "outputs": [],
   "source": []
  }
 ],
 "metadata": {
  "kernelspec": {
   "display_name": "Python 3",
   "language": "python",
   "name": "python3"
  },
  "language_info": {
   "codemirror_mode": {
    "name": "ipython",
    "version": 3
   },
   "file_extension": ".py",
   "mimetype": "text/x-python",
   "name": "python",
   "nbconvert_exporter": "python",
   "pygments_lexer": "ipython3",
   "version": "3.8.3"
  }
 },
 "nbformat": 4,
 "nbformat_minor": 4
}
