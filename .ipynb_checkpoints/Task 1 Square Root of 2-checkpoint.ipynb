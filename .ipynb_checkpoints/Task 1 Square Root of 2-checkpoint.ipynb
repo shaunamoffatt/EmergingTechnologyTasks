{
 "cells": [
  {
   "cell_type": "markdown",
   "metadata": {},
   "source": [
    "# Square Root of 2 in Python\n",
    "\n",
    "TODO: \n",
    "* Write a Python function called sqrt2 that calculates and prints to the screen the square root of 2 to 100 decimal places. \n",
    "* Your code should not depend on any module from the standard library or otherwise. \n",
    "* You should research the task first and include references and a description of your algorithm."
   ]
  },
  {
   "attachments": {
    "image.png": {
     "image/png": "[encoded data removed]"
    }
   },
   "cell_type": "markdown",
   "metadata": {},
   "source": [
    "## Pythagoras's Constant\n",
    "\n",
    "Pythagoras's constant, the $\\sqrt{2}$, can be easily visualized as the hypothenus of a right angle with equal opposite and adjacent sides of length 1 (as seen below in fig \\cite{WolframAlphaPy} ) \n",
    "\n",
    "![image.png](attachment:image.png)\n",
    "\n",
    "\n",
    "[1] Pythagoras's Constant -- from Wolfram MathWorld. (2020). Retrieved 26 October 2020, from https://mathworld.wolfram.com/PythagorassConstant.html#:~:text=(OEIS%20A002193)%2C%20which%20the%20Pythagoreans%20proved%20to%20be%20irrational.&text=while%20at%20sea%20and%2C%20upon,sometimes%20known%20as%20Pythagoras's%20theorem."
   ]
  },
  {
   "cell_type": "code",
   "execution_count": null,
   "metadata": {},
   "outputs": [],
   "source": []
  },
  {
   "cell_type": "markdown",
   "metadata": {},
   "source": [
    "## Babylonian Method for Calculating Square Roots\n",
    "\n",
    "TODO: see what really makes them so different\n",
    "\n",
    "Can be derived from Newton-Rapson\n",
    "\n",
    "[]https://www.geeksforgeeks.org/square-root-of-a-perfect-square/\n",
    "[]https://citeseerx.ist.psu.edu/viewdoc/download?doi=10.1.1.834.9149&rep=rep1&type=pdf\n",
    "[]Python Math: Computing square roots using the Babylonian method - w3resource. (2020). Retrieved 27 October 2020, from https://www.w3resource.com/python-exercises/math/python-math-exercise-18.php"
   ]
  },
  {
   "cell_type": "code",
   "execution_count": 74,
   "metadata": {},
   "outputs": [
    {
     "name": "stdout",
     "output_type": "stream",
     "text": [
      "Total iterations: 6\n"
     ]
    },
    {
     "data": {
      "image/png": "[encoded data removed]",
      "text/plain": [
       "<Figure size 432x288 with 1 Axes>"
      ]
     },
     "metadata": {
      "needs_background": "light"
     },
     "output_type": "display_data"
    },
    {
     "name": "stdout",
     "output_type": "stream",
     "text": [
      "The Babylonian Algothrim Square of 2 is 1.414213562373095\n",
      "1.4142135623730949234300169337075203657150268554687500000000000000000000000000000000000000000000000000\n"
     ]
    }
   ],
   "source": [
    "import matplotlib.pyplot as plt\n",
    "def BabylonianAlgorithm(number = 2):\n",
    "    plt.figure()\n",
    "    #set range for test graph\n",
    "    plt.xlim([1.414210, 1.4142200])\n",
    "    \n",
    "    a = number/2.0;\n",
    "    a2 = a + 1;\n",
    "    count = 0;\n",
    "   \n",
    "    while(a != a2):\n",
    "        plt.scatter(a, count)\n",
    "        count += 1;\n",
    "        n = number/ a;\n",
    "        a2 = a;\n",
    "        a = (a + n)/2;\n",
    "        #plt.scatter(a, count)\n",
    "     \n",
    "    print('Total iterations: {}'.format(count));\n",
    "    plt.show();\n",
    "    return a;\n",
    "\n",
    "n=2\n",
    "sqrRootn = BabylonianAlgorithm(n)\n",
    "print('The Babylonian Algothrim Square of {} is {}'.format(n, sqrRootn));\n",
    "print(\"{0:.100f}\".format(sqrRootn))"
   ]
  },
  {
   "cell_type": "markdown",
   "metadata": {},
   "source": [
    "## Newtons Method for Calculating Square Roots\n",
    "\n",
    "Newtons Method can be used to calculate an approximation for the square root for some number x [4] [2]\n",
    "\n",
    "\\begin{equation*}\n",
    "{x} = \\frac{x+ \\frac{a}{x}}{2}\n",
    "\\end{equation*}\n",
    "\n",
    "[3] Find root of a number using Newton's method - GeeksforGeeks. (2020). Retrieved 26 October 2020, from https://www.geeksforgeeks.org/find-root-of-a-number-using-newtons-method/\n",
    "[2]S. G. Johnson, MIT Course 18.335 (February 4, 2015), Square Roots via Newton’s Method. Retrieved 26 October 2020, from https://math.mit.edu/~stevenj/18.335/newton-sqrt.pdf\n",
    "[4]Allen B. Downey , \"Chapter 7  Iteration\" in Think Python 1st Edition, O'REILLY\n",
    "[]Python Math: Computing square roots using the Babylonian method - w3resource. (2020). Retrieved 27 October 2020, from https://www.w3resource.com/python-exercises/math/python-math-exercise-18.php"
   ]
  },
  {
   "cell_type": "code",
   "execution_count": 75,
   "metadata": {},
   "outputs": [
    {
     "name": "stdout",
     "output_type": "stream",
     "text": [
      "The Square Root of 2 to 100 decimal places using Newtons Method {} is :\n",
      "Total iterations counts to find the approximation: 4\n",
      "1.4142135623746898698271934335934929549694061279296875000000000000000000000000000000000000000000000000\n"
     ]
    },
    {
     "data": {
      "image/png": "[encoded data removed]",
      "text/plain": [
       "<Figure size 432x288 with 1 Axes>"
      ]
     },
     "metadata": {
      "needs_background": "light"
     },
     "output_type": "display_data"
    }
   ],
   "source": [
    "import matplotlib.pyplot as plt\n",
    "def NewtonMethodForSquareRoot(number = 2,iteration = 0.00001) : \n",
    "    plt.figure()\n",
    "    #set range for test graph\n",
    "    plt.xlim([1.414200, 1.4142260])\n",
    "    #Pass in the number to get the square root of (in our case 2)\n",
    "    x = number \n",
    "  \n",
    "    #count is to count the number of iterations  \n",
    "    count = 0 \n",
    "    #while true\n",
    "    while (1) : \n",
    "        count += 1 \n",
    "  \n",
    "        # caluclate x  \n",
    "        root = 0.5 * (x + (n / x))  \n",
    "        plt.scatter(root, count)\n",
    "        # Check for closeness  \n",
    "        if (abs(root - x) < iteration) :\n",
    "            break \n",
    "  \n",
    "        # Update root  \n",
    "        x = root \n",
    "    \n",
    "    print('Total iterations counts to find the approximation: {}'.format(count));\n",
    "    return root  \n",
    "\n",
    "print('The Square Root of 2 to 100 decimal places using Newtons Method {} is :');\n",
    "print(\"{0:.100f}\".format(NewtonMethodForSquareRoot()))"
   ]
  },
  {
   "cell_type": "markdown",
   "metadata": {},
   "source": [
    "## Tests and Comparisons\n",
    "\n",
    "Import pythons square root funtion "
   ]
  },
  {
   "cell_type": "code",
   "execution_count": 2,
   "metadata": {},
   "outputs": [
    {
     "name": "stdout",
     "output_type": "stream",
     "text": [
      "1.4142135623730951\n",
      "1.4142135623730951454746218587388284504413604736328125000000000000000000000000000000000000000000000000\n"
     ]
    }
   ],
   "source": [
    "import math\n",
    "\n",
    "print(math.sqrt(2));\n",
    "print(\"{0:.100f}\".format(math.sqrt(2)))"
   ]
  },
  {
   "cell_type": "markdown",
   "metadata": {},
   "source": [
    "End"
   ]
  },
  {
   "cell_type": "markdown",
   "metadata": {},
   "source": [
    "## References\n",
    "\n"
   ]
  },
  {
   "cell_type": "code",
   "execution_count": null,
   "metadata": {},
   "outputs": [],
   "source": []
  }
 ],
 "metadata": {
  "kernelspec": {
   "display_name": "Python 3",
   "language": "python",
   "name": "python3"
  },
  "language_info": {
   "codemirror_mode": {
    "name": "ipython",
    "version": 3
   },
   "file_extension": ".py",
   "mimetype": "text/x-python",
   "name": "python",
   "nbconvert_exporter": "python",
   "pygments_lexer": "ipython3",
   "version": "3.8.3"
  }
 },
 "nbformat": 4,
 "nbformat_minor": 4
}
