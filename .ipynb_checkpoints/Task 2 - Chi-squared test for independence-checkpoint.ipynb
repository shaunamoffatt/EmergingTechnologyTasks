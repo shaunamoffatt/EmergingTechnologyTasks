{
 "cells": [
  {
   "cell_type": "markdown",
   "metadata": {},
   "source": [
    "# Chi-squared test for independence\n",
    " \n",
    "\\begin{equation}\n",
    "\\chi^2 = \\sum{\\frac{(observed−expected)^2}{expected}}\n",
    "\\end{equation}\n",
    "\n",
    "\"The term ‘observed’ refers to the numbers we have seen in the contingency table, and the term ‘expected’ refers to the expected numbers when the null hypothesis is true.\"\n",
    "[medium](https://towardsdatascience.com/chi-square-test-for-independence-in-python-with-examples-from-the-ibm-hr-analytics-dataset-97b9ec9bb80a)\n",
    "\n",
    "\n",
    "https://codingdisciple.com/chi-squared-python.html"
   ]
  },
  {
   "cell_type": "markdown",
   "metadata": {},
   "source": [
    "### Classes to import\n",
    "\n",
    "*Link to scipy https://docs.scipy.org/doc/scipy/reference/generated/scipy.stats.chi2_contingency.html"
   ]
  },
  {
   "cell_type": "code",
   "execution_count": 1,
   "metadata": {},
   "outputs": [],
   "source": [
    "from scipy.stats import chi2_contingency as chi\n",
    "from IPython.core.display import HTML\n",
    "import pandas as pd\n",
    "import numpy as np\n",
    "import matplotlib.pyplot as plt"
   ]
  },
  {
   "cell_type": "markdown",
   "metadata": {},
   "source": [
    "## The Data Model\n",
    "\n",
    "A city with a popultaion of 1,000,000 is split into 4 neighbour hoods: A, B, C and D. \n",
    "Taking a sample size of 650 people, everybodies occupation is catergorized into 1 of 3 brackets: \"White collar\", \"Blue collar\" and \"No collar\". \n",
    "\n",
    "[]https://en.wikipedia.org/wiki/Chi-squared_test"
   ]
  },
  {
   "cell_type": "code",
   "execution_count": 9,
   "metadata": {},
   "outputs": [],
   "source": [
    "#array of white, blue and no collars in each neighbourhood A,B,C and D\n",
    "w = [90,60,104,95]\n",
    "b = [30,50,51,20]\n",
    "n = [30,40,45,35]\n",
    "neigbourhoods = ['A', 'B', 'C', 'D']\n",
    "##create dictionary of data\n",
    "data ={\n",
    "    \"White collar\" : w,\n",
    "    \"Blue collar\" : b,\n",
    "    \"No collar\" : n\n",
    "}"
   ]
  },
  {
   "cell_type": "markdown",
   "metadata": {},
   "source": [
    "### Displaying the Observed Data using pandas"
   ]
  },
  {
   "cell_type": "code",
   "execution_count": 8,
   "metadata": {},
   "outputs": [
    {
     "data": {
      "text/html": [
       "<div>\n",
       "<style scoped>\n",
       "    .dataframe tbody tr th:only-of-type {\n",
       "        vertical-align: middle;\n",
       "    }\n",
       "\n",
       "    .dataframe tbody tr th {\n",
       "        vertical-align: top;\n",
       "    }\n",
       "\n",
       "    .dataframe thead th {\n",
       "        text-align: right;\n",
       "    }\n",
       "</style>\n",
       "<table border=\"1\" class=\"dataframe\">\n",
       "  <thead>\n",
       "    <tr style=\"text-align: right;\">\n",
       "      <th></th>\n",
       "      <th>A</th>\n",
       "      <th>B</th>\n",
       "      <th>C</th>\n",
       "      <th>D</th>\n",
       "      <th>Total</th>\n",
       "    </tr>\n",
       "  </thead>\n",
       "  <tbody>\n",
       "    <tr>\n",
       "      <th>White collar</th>\n",
       "      <td>90</td>\n",
       "      <td>60</td>\n",
       "      <td>104</td>\n",
       "      <td>95</td>\n",
       "      <td>349</td>\n",
       "    </tr>\n",
       "    <tr>\n",
       "      <th>Blue collar</th>\n",
       "      <td>30</td>\n",
       "      <td>50</td>\n",
       "      <td>51</td>\n",
       "      <td>20</td>\n",
       "      <td>151</td>\n",
       "    </tr>\n",
       "    <tr>\n",
       "      <th>No collar</th>\n",
       "      <td>30</td>\n",
       "      <td>40</td>\n",
       "      <td>45</td>\n",
       "      <td>35</td>\n",
       "      <td>150</td>\n",
       "    </tr>\n",
       "    <tr>\n",
       "      <th>Total</th>\n",
       "      <td>150</td>\n",
       "      <td>150</td>\n",
       "      <td>200</td>\n",
       "      <td>150</td>\n",
       "      <td>650</td>\n",
       "    </tr>\n",
       "  </tbody>\n",
       "</table>\n",
       "</div>"
      ],
      "text/plain": [
       "                A    B    C    D  Total\n",
       "White collar   90   60  104   95    349\n",
       "Blue collar    30   50   51   20    151\n",
       "No collar      30   40   45   35    150\n",
       "Total         150  150  200  150    650"
      ]
     },
     "execution_count": 8,
     "metadata": {},
     "output_type": "execute_result"
    }
   ],
   "source": [
    "collars = np.array([w, b, n])\n",
    "#add the \n",
    "df = pd.DataFrame(data)\n",
    "#Change the rows from 0 , 1 , 2, 3 to A, B, C, D\n",
    "df.index = neigbourhoods\n",
    "#Sum the totals of the rows and columns\n",
    "df.loc['Total']= df.sum(numeric_only=True, axis=0)\n",
    "df.loc[:,'Total'] = df.sum(numeric_only=True, axis=1)\n",
    "\n",
    "#flip the display of the data horizontally\n",
    "df.head().T"
   ]
  },
  {
   "cell_type": "markdown",
   "metadata": {},
   "source": [
    "### Data Displayed as bar Chart"
   ]
  },
  {
   "cell_type": "code",
   "execution_count": 11,
   "metadata": {},
   "outputs": [
    {
     "data": {
      "image/png": "[encoded data removed]",
      "text/plain": [
       "<Figure size 750x400 with 1 Axes>"
      ]
     },
     "metadata": {},
     "output_type": "display_data"
    }
   ],
   "source": [
    "#Plots the bar chart\n",
    "fig = plt.figure(figsize=(15,8), dpi= 50, facecolor='w', edgecolor='k')\n",
    "#Change size of font\n",
    "plt.rcParams['font.size'] = 20\n",
    "\n",
    "ax = fig.add_axes([0,0,1,1])\n",
    "\n",
    "X = np.arange(4)\n",
    "\n",
    "ax.bar(X + 0.00, w, color = 'w', width = 0.25)\n",
    "ax.bar(X + 0.25, b, color = 'b', width = 0.25)\n",
    "ax.bar(X + 0.50, n, color = 'r', width = 0.25)\n",
    "\n",
    "ax.legend(labels=data)\n",
    "ax.set_facecolor('grey')\n",
    "\n",
    "plt.title('Distribution of Occupation of sample size 650')\n",
    "ax.set_xlabel('Neighbourhood')\n",
    "ax.set_ylabel('No. of People') \n",
    "\n",
    "plt.show()\n",
    "\n",
    "#https://www.tutorialspoint.com/matplotlib/matplotlib_bar_plot.htm"
   ]
  },
  {
   "cell_type": "markdown",
   "metadata": {},
   "source": [
    "## SciPy’s chi2_contingency() \n",
    "\n",
    "Returns 4 values:\n",
    "\n",
    "    0: 𝜒2 value\n",
    "    1: p-value\n",
    "    2: degree of freedom\n",
    "    3: expected values\n",
    "\n",
    "[]https://towardsdatascience.com/running-chi-square-tests-in-python-with-die-roll-data-b9903817c51b"
   ]
  },
  {
   "cell_type": "code",
   "execution_count": 16,
   "metadata": {},
   "outputs": [],
   "source": [
    "collars = np.array([w, b, n])\n",
    "chi2, p_val, dof, ex = chi(collars)"
   ]
  },
  {
   "cell_type": "markdown",
   "metadata": {},
   "source": []
  },
  {
   "cell_type": "markdown",
   "metadata": {},
   "source": [
    "## Expected Value\n",
    "\n",
    "The expected values from the give data is gotten from the 4th returned value of the chi2_contingency().\n",
    "\n",
    "\\begin{equation}\n",
    "expectedValue = \\frac{{row Total} x {column Total}}{ grand Total}\n",
    "\\end{equation}\n",
    "\n"
   ]
  },
  {
   "cell_type": "code",
   "execution_count": 6,
   "metadata": {},
   "outputs": [
    {
     "name": "stdout",
     "output_type": "stream",
     "text": [
      "===Contingency Table===\n"
     ]
    },
    {
     "data": {
      "text/html": [
       "<div>\n",
       "<style scoped>\n",
       "    .dataframe tbody tr th:only-of-type {\n",
       "        vertical-align: middle;\n",
       "    }\n",
       "\n",
       "    .dataframe tbody tr th {\n",
       "        vertical-align: top;\n",
       "    }\n",
       "\n",
       "    .dataframe thead th {\n",
       "        text-align: right;\n",
       "    }\n",
       "</style>\n",
       "<table border=\"1\" class=\"dataframe\">\n",
       "  <thead>\n",
       "    <tr style=\"text-align: right;\">\n",
       "      <th></th>\n",
       "      <th>A</th>\n",
       "      <th>B</th>\n",
       "      <th>C</th>\n",
       "      <th>D</th>\n",
       "    </tr>\n",
       "  </thead>\n",
       "  <tbody>\n",
       "    <tr>\n",
       "      <th>White collar</th>\n",
       "      <td>80.54</td>\n",
       "      <td>80.54</td>\n",
       "      <td>107.38</td>\n",
       "      <td>80.54</td>\n",
       "    </tr>\n",
       "    <tr>\n",
       "      <th>Blue collar</th>\n",
       "      <td>34.85</td>\n",
       "      <td>34.85</td>\n",
       "      <td>46.46</td>\n",
       "      <td>34.85</td>\n",
       "    </tr>\n",
       "    <tr>\n",
       "      <th>No collar</th>\n",
       "      <td>34.62</td>\n",
       "      <td>34.62</td>\n",
       "      <td>46.15</td>\n",
       "      <td>34.62</td>\n",
       "    </tr>\n",
       "  </tbody>\n",
       "</table>\n",
       "</div>"
      ],
      "text/plain": [
       "                  A      B       C      D\n",
       "White collar  80.54  80.54  107.38  80.54\n",
       "Blue collar   34.85  34.85   46.46  34.85\n",
       "No collar     34.62  34.62   46.15  34.62"
      ]
     },
     "execution_count": 6,
     "metadata": {},
     "output_type": "execute_result"
    }
   ],
   "source": [
    "print(\"===Contingency Table===\")\n",
    "dfExpected = ex\n",
    "pd.DataFrame(\n",
    "    data=dfExpected[:,:],\n",
    "    index = data,\n",
    "    columns = neigbourhoods\n",
    ").round(2)"
   ]
  },
  {
   "cell_type": "code",
   "execution_count": null,
   "metadata": {},
   "outputs": [],
   "source": []
  },
  {
   "cell_type": "code",
   "execution_count": null,
   "metadata": {},
   "outputs": [],
   "source": []
  },
  {
   "cell_type": "code",
   "execution_count": null,
   "metadata": {},
   "outputs": [],
   "source": []
  }
 ],
 "metadata": {
  "kernelspec": {
   "display_name": "Python 3",
   "language": "python",
   "name": "python3"
  },
  "language_info": {
   "codemirror_mode": {
    "name": "ipython",
    "version": 3
   },
   "file_extension": ".py",
   "mimetype": "text/x-python",
   "name": "python",
   "nbconvert_exporter": "python",
   "pygments_lexer": "ipython3",
   "version": "3.8.3"
  }
 },
 "nbformat": 4,
 "nbformat_minor": 4
}
